{
 "cells": [
  {
   "cell_type": "markdown",
   "metadata": {},
   "source": [
    "# Prédiction du Taux de Criminalité à Chicago avec Facebook Prophet\n",
    "\n",
    "## Projet d'Analyse Prédictive - Séries Temporelles\n",
    "\n",
    "**Auteur:** Brayan \n",
    "**Date:** 2024  \n",
    "**Technologies:** Python, Facebook Prophet, Pandas, Matplotlib, Seaborn\n",
    "\n",
    "---\n",
    "\n",
    "### Objectif du Projet\n",
    "\n",
    "Ce projet vise à développer un modèle prédictif pour analyser et prédire les tendances de criminalité à Chicago en utilisant l'algorithme **Facebook Prophet** pour l'analyse des séries temporelles.\n",
    "\n",
    "### Contexte\n",
    "\n",
    "L'analyse prédictive de la criminalité permet aux forces de l'ordre et aux décideurs politiques de :\n",
    "- **Anticiper les tendances** de criminalité\n",
    "- **Allouer les ressources** de manière optimale\n",
    "- **Développer des stratégies** de prévention ciblées\n",
    "- **Améliorer la sécurité** des citoyens\n",
    "\n",
    "\n"
   ]
  },
  {
   "cell_type": "markdown",
   "metadata": {},
   "source": [
    "## 1. Énoncé du Problème\n",
    "\n",
    "### Défi de Prédiction\n",
    "\n",
    "Le projet consiste à analyser les données historiques de criminalité à Chicago (2001-2017) pour développer un modèle prédictif capable de :\n",
    "- **Prédire les tendances** de criminalité futures\n",
    "- **Identifier les patterns** saisonniers et cycliques\n",
    "- **Analyser l'évolution** des différents types de crimes\n",
    "- **Fournir des insights** pour la planification des ressources"
   ]
  },
  {
   "cell_type": "markdown",
   "metadata": {},
   "source": [
    "### Vue d'ensemble de Chicago\n",
    "\n",
    "Chicago, troisième plus grande ville des États-Unis, fait face à des défis complexes en matière de sécurité publique. L'analyse prédictive des données de criminalité permet de mieux comprendre les dynamiques urbaines et d'améliorer les stratégies de prévention."
   ]
  },
  {
   "cell_type": "markdown",
   "metadata": {},
   "source": [
    "## 2. Description du Dataset\n",
    "\n",
    "### Source des Données\n",
    "\n",
    "Le dataset de criminalité de Chicago contient un résumé des crimes signalés dans la ville de Chicago de **2001 à 2017**. Les données proviennent du système CLEAR (Citizen Law Enforcement Analysis and Reporting) du Département de Police de Chicago.\n",
    "\n",
    "### Structure du Dataset\n",
    "\n",
    "Le dataset contient **22 colonnes** avec les informations suivantes :\n",
    "\n",
    "**Identifiants :**\n",
    "- **ID** : Identifiant unique du record\n",
    "- **Case Number** : Numéro RD du Département de Police de Chicago\n",
    "\n",
    "**Informations Temporelles :**\n",
    "- **Date** : Date de l'incident\n",
    "- **Year** : Année de l'incident\n",
    "- **Updated On** : Date et heure de dernière mise à jour\n",
    "\n",
    "**Informations Géographiques :**\n",
    "- **Block** : Adresse où l'incident s'est produit\n",
    "- **Beat** : Zone de police la plus petite (chaque beat a une voiture de police dédiée)\n",
    "- **District** : District de police\n",
    "- **Ward** : Circonscription du conseil municipal\n",
    "- **Community Area** : Zone communautaire (Chicago a 77 zones communautaires)\n",
    "- **Latitude/Longitude** : Coordonnées géographiques (décalées pour anonymisation)\n",
    "- **X/Y Coordinate** : Coordonnées dans le système de projection State Plane Illinois East NAD 1983\n",
    "\n",
    "**Informations sur le Crime :**\n",
    "- **IUCR** : Code de rapport uniforme des crimes de l'Illinois\n",
    "- **Primary Type** : Description principale du code IUCR\n",
    "- **Description** : Description secondaire (sous-catégorie)\n",
    "- **Location Description** : Description du lieu de l'incident\n",
    "- **FBI Code** : Classification selon le système NIBRS du FBI\n",
    "\n",
    "**Informations Supplémentaires :**\n",
    "- **Arrest** : Indique si une arrestation a été effectuée\n",
    "- **Domestic** : Indique si l'incident était lié à la violence domestique\n",
    "\n",
    "### Source\n",
    "Dataset disponible sur [Kaggle](https://www.kaggle.com/currie32/crimes-in-chicago)"
   ]
  },
  {
   "cell_type": "markdown",
   "metadata": {},
   "source": [
    "- You must install fbprophet package as follows: \n",
    "     pip install fbprophet\n",
    "     \n",
    "- If you encounter an error, try: \n",
    "    conda install -c conda-forge fbprophet\n",
    "\n",
    "- Prophet is open source software released by Facebook’s Core Data Science team.\n",
    "\n",
    "## 3. Introduction à Facebook Prophet\n",
    "\n",
    "### Qu'est-ce que Prophet ?\n",
    "\n",
    "**Facebook Prophet** est un outil open source développé par l'équipe Core Data Science de Facebook pour la prédiction de séries temporelles.\n",
    "\n",
    "### Caractéristiques Principales\n",
    "\n",
    "- **Modèle additif** : Combine tendances non-linéaires avec des effets saisonniers\n",
    "- **Saisonalité multiple** : Annuelle, hebdomadaire et quotidienne\n",
    "- **Effets de vacances** : Prise en compte des jours fériés\n",
    "- **Robustesse** : Gère les valeurs manquantes et les points aberrants\n",
    "- **Facilité d'utilisation** : Interface simple pour les non-experts\n",
    "\n",
    "### Avantages pour l'Analyse de Criminalité\n",
    "\n",
    "- **Tendances long terme** : Évolution générale de la criminalité\n",
    "- **Patterns saisonniers** : Variations mensuelles et hebdomadaires\n",
    "- **Prédictions fiables** : Basées sur plusieurs années de données historiques\n",
    "- **Interprétabilité** : Résultats facilement compréhensibles\n",
    "\n",
    "### Installation\n",
    "\n",
    "```bash\n",
    "pip install fbprophet\n",
    "# ou\n",
    "conda install -c conda-forge fbprophet\n",
    "```\n",
    "\n",
    "### Documentation\n",
    "- [Prophet: Forecasting at Scale](https://research.fb.com/prophet-forecasting-at-scale/)\n",
    "- [Documentation officielle](https://facebook.github.io/prophet/)\n"
   ]
  },
  {
   "cell_type": "markdown",
   "metadata": {},
   "source": [
    "## 4. Importation des Données et Bibliothèques"
   ]
  },
  {
   "cell_type": "code",
   "execution_count": 1,
   "metadata": {
    "execution": {
     "iopub.execute_input": "2025-09-19T22:21:50.483275Z",
     "iopub.status.busy": "2025-09-19T22:21:50.482898Z",
     "iopub.status.idle": "2025-09-19T22:21:57.041185Z",
     "shell.execute_reply": "2025-09-19T22:21:57.040329Z",
     "shell.execute_reply.started": "2025-09-19T22:21:50.483237Z"
    }
   },
   "outputs": [
    {
     "name": "stdout",
     "output_type": "stream",
     "text": [
      "Requirement already satisfied: prophet in /opt/conda/lib/python3.11/site-packages (1.1.7)\n",
      "Requirement already satisfied: cmdstanpy>=1.0.4 in /opt/conda/lib/python3.11/site-packages (from prophet) (1.2.5)\n",
      "Requirement already satisfied: numpy>=1.15.4 in /opt/conda/lib/python3.11/site-packages (from prophet) (1.26.4)\n",
      "Requirement already satisfied: matplotlib>=2.0.0 in /opt/conda/lib/python3.11/site-packages (from prophet) (3.10.3)\n",
      "Requirement already satisfied: pandas>=1.0.4 in /opt/conda/lib/python3.11/site-packages (from prophet) (2.2.3)\n",
      "Requirement already satisfied: holidays<1,>=0.25 in /opt/conda/lib/python3.11/site-packages (from prophet) (0.81)\n",
      "Requirement already satisfied: tqdm>=4.36.1 in /opt/conda/lib/python3.11/site-packages (from prophet) (4.67.1)\n",
      "Requirement already satisfied: importlib_resources in /opt/conda/lib/python3.11/site-packages (from prophet) (6.5.2)\n",
      "Requirement already satisfied: stanio<2.0.0,>=0.4.0 in /opt/conda/lib/python3.11/site-packages (from cmdstanpy>=1.0.4->prophet) (0.5.1)\n",
      "Requirement already satisfied: python-dateutil in /opt/conda/lib/python3.11/site-packages (from holidays<1,>=0.25->prophet) (2.9.0.post0)\n",
      "Requirement already satisfied: contourpy>=1.0.1 in /opt/conda/lib/python3.11/site-packages (from matplotlib>=2.0.0->prophet) (1.3.3)\n",
      "Requirement already satisfied: cycler>=0.10 in /opt/conda/lib/python3.11/site-packages (from matplotlib>=2.0.0->prophet) (0.12.1)\n",
      "Requirement already satisfied: fonttools>=4.22.0 in /opt/conda/lib/python3.11/site-packages (from matplotlib>=2.0.0->prophet) (4.59.0)\n",
      "Requirement already satisfied: kiwisolver>=1.3.1 in /opt/conda/lib/python3.11/site-packages (from matplotlib>=2.0.0->prophet) (1.4.8)\n",
      "Requirement already satisfied: packaging>=20.0 in /opt/conda/lib/python3.11/site-packages (from matplotlib>=2.0.0->prophet) (24.2)\n",
      "Requirement already satisfied: pillow>=8 in /opt/conda/lib/python3.11/site-packages (from matplotlib>=2.0.0->prophet) (11.3.0)\n",
      "Requirement already satisfied: pyparsing>=2.3.1 in /opt/conda/lib/python3.11/site-packages (from matplotlib>=2.0.0->prophet) (3.2.3)\n",
      "Requirement already satisfied: pytz>=2020.1 in /opt/conda/lib/python3.11/site-packages (from pandas>=1.0.4->prophet) (2024.2)\n",
      "Requirement already satisfied: tzdata>=2022.7 in /opt/conda/lib/python3.11/site-packages (from pandas>=1.0.4->prophet) (2025.2)\n",
      "Requirement already satisfied: six>=1.5 in /opt/conda/lib/python3.11/site-packages (from python-dateutil->holidays<1,>=0.25->prophet) (1.17.0)\n"
     ]
    }
   ],
   "source": [
    "import sys\n",
    "!{sys.executable} -m pip install prophet"
   ]
  },
  {
   "cell_type": "code",
   "execution_count": 2,
   "metadata": {
    "execution": {
     "iopub.execute_input": "2025-09-19T22:22:21.178268Z",
     "iopub.status.busy": "2025-09-19T22:22:21.177852Z",
     "iopub.status.idle": "2025-09-19T22:22:33.598978Z",
     "shell.execute_reply": "2025-09-19T22:22:33.598084Z",
     "shell.execute_reply.started": "2025-09-19T22:22:21.178230Z"
    }
   },
   "outputs": [
    {
     "name": "stdout",
     "output_type": "stream",
     "text": [
      "✅ Prophet fonctionne !\n"
     ]
    }
   ],
   "source": [
    "from prophet import Prophet\n",
    "\n",
    "m = Prophet()\n",
    "print(\"✅ Prophet fonctionne !\")"
   ]
  },
  {
   "cell_type": "code",
   "execution_count": 3,
   "metadata": {
    "execution": {
     "iopub.execute_input": "2025-09-19T22:25:01.511441Z",
     "iopub.status.busy": "2025-09-19T22:25:01.499202Z",
     "iopub.status.idle": "2025-09-19T22:25:06.271196Z",
     "shell.execute_reply": "2025-09-19T22:25:06.270409Z",
     "shell.execute_reply.started": "2025-09-19T22:25:01.511390Z"
    }
   },
   "outputs": [
    {
     "name": "stdout",
     "output_type": "stream",
     "text": [
      "VERSIONS DES BIBLIOTHÈQUES\n",
      "========================================\n",
      "Pandas    : 2.2.3\n",
      "NumPy     : 1.26.4\n",
      "Matplotlib: 3.10.3\n",
      "Seaborn   : 0.13.2\n",
      "========================================\n",
      "Toutes les bibliothèques sont prêtes!\n"
     ]
    }
   ],
   "source": [
    "# Importation des bibliothèques essentielles\n",
    "import pandas as pd \n",
    "import numpy as np \n",
    "import matplotlib.pyplot as plt\n",
    "import seaborn as sns\n",
    "import random\n",
    "from prophet import Prophet\n",
    "import warnings\n",
    "warnings.filterwarnings('ignore')\n",
    "\n",
    "# Configuration des graphiques\n",
    "plt.style.use('seaborn-v0_8')\n",
    "sns.set_palette(\"husl\")\n",
    "plt.rcParams['figure.figsize'] = (12, 8)\n",
    "plt.rcParams['font.size'] = 12\n",
    "\n",
    "# Vérification des versions\n",
    "print(\"VERSIONS DES BIBLIOTHÈQUES\")\n",
    "print(\"=\" * 40)\n",
    "print(f\"Pandas    : {pd.__version__}\")\n",
    "print(f\"NumPy     : {np.__version__}\")\n",
    "print(f\"Matplotlib: {plt.matplotlib.__version__}\")\n",
    "print(f\"Seaborn   : {sns.__version__}\")\n",
    "print(\"=\" * 40)\n",
    "print(\"Toutes les bibliothèques sont prêtes!\")\n"
   ]
  },
  {
   "cell_type": "markdown",
   "metadata": {},
   "source": [
    "## 5. Chargement et Exploration des Données\n",
    "\n",
    "### Chargement du Dataset\n",
    "\n",
    "Le dataset de criminalité de Chicago sera chargé et analysé pour comprendre sa structure et identifier les patterns temporels.\n"
   ]
  },
  {
   "cell_type": "code",
   "execution_count": 4,
   "metadata": {
    "execution": {
     "iopub.execute_input": "2025-09-19T22:25:06.273005Z",
     "iopub.status.busy": "2025-09-19T22:25:06.272562Z",
     "iopub.status.idle": "2025-09-19T22:25:25.159401Z",
     "shell.execute_reply": "2025-09-19T22:25:25.158619Z",
     "shell.execute_reply.started": "2025-09-19T22:25:06.272980Z"
    }
   },
   "outputs": [
    {
     "name": "stdout",
     "output_type": "stream",
     "text": [
      "CHARGEMENT DU DATASET\n",
      "===================================\n",
      "Dataset chargé avec succès!\n",
      "Dimensions : 100000 lignes × 23 colonnes\n",
      "\n",
      "INFORMATIONS SUR LE DATASET\n",
      "------------------------------\n",
      "Colonnes disponibles : ['Unnamed: 0', 'ID', 'Case Number', 'Date', 'Block', 'IUCR', 'Primary Type', 'Description', 'Location Description', 'Arrest', 'Domestic', 'Beat', 'District', 'Ward', 'Community Area', 'FBI Code', 'X Coordinate', 'Y Coordinate', 'Year', 'Updated On', 'Latitude', 'Longitude', 'Location']\n",
      "Types de données :\n",
      "object     10\n",
      "float64     7\n",
      "int64       4\n",
      "bool        2\n",
      "Name: count, dtype: int64\n",
      "\n",
      "VALEURS MANQUANTES\n",
      "--------------------\n",
      "Valeurs manquantes par colonne :\n",
      "Location Description        1\n",
      "Ward                    96053\n",
      "Community Area          96059\n",
      "X Coordinate             6727\n",
      "Y Coordinate             6727\n",
      "Latitude                 6727\n",
      "Longitude                6727\n",
      "Location                 6727\n",
      "dtype: int64\n"
     ]
    }
   ],
   "source": [
    "# Chargement du dataset de criminalité de Chicago\n",
    "print(\"CHARGEMENT DU DATASET\")\n",
    "print(\"=\" * 35)\n",
    "\n",
    "# Chargement des données\n",
    "chicago_df = pd.read_csv('Chicago_Crimes_2001_to_2004.csv', nrows=100000)\n",
    "\n",
    "print(\"Dataset chargé avec succès!\")\n",
    "print(f\"Dimensions : {chicago_df.shape[0]} lignes × {chicago_df.shape[1]} colonnes\")\n",
    "\n",
    "# Informations générales\n",
    "print(f\"\\nINFORMATIONS SUR LE DATASET\")\n",
    "print(\"-\" * 30)\n",
    "print(f\"Colonnes disponibles : {list(chicago_df.columns)}\")\n",
    "print(f\"Types de données :\")\n",
    "print(chicago_df.dtypes.value_counts())\n",
    "\n",
    "# Vérification des valeurs manquantes\n",
    "print(f\"\\nVALEURS MANQUANTES\")\n",
    "print(\"-\" * 20)\n",
    "missing_values = chicago_df.isnull().sum()\n",
    "if missing_values.sum() == 0:\n",
    "    print(\"Aucune valeur manquante détectée!\")\n",
    "else:\n",
    "    print(\"Valeurs manquantes par colonne :\")\n",
    "    print(missing_values[missing_values > 0])\n"
   ]
  },
  {
   "cell_type": "markdown",
   "metadata": {},
   "source": [
    "## 6. Préparation des Données\n",
    "\n",
    "### Nettoyage et Transformation\n",
    "\n",
    "Les données doivent être nettoyées et transformées pour être compatibles avec Prophet :\n",
    "- **Suppression des colonnes inutiles** pour l'analyse temporelle\n",
    "- **Conversion des dates** au format datetime\n",
    "- **Agrégation temporelle** des crimes par jour\n",
    "- **Création de la série temporelle** pour Prophet\n"
   ]
  },
  {
   "cell_type": "code",
   "execution_count": 5,
   "metadata": {
    "execution": {
     "iopub.execute_input": "2025-09-19T22:25:25.160447Z",
     "iopub.status.busy": "2025-09-19T22:25:25.160215Z",
     "iopub.status.idle": "2025-09-19T22:25:25.525910Z",
     "shell.execute_reply": "2025-09-19T22:25:25.525196Z",
     "shell.execute_reply.started": "2025-09-19T22:25:25.160427Z"
    }
   },
   "outputs": [
    {
     "name": "stdout",
     "output_type": "stream",
     "text": [
      "PRÉPARATION DES DONNÉES\n",
      "===================================\n",
      "1. Suppression des colonnes inutiles...\n",
      "   Colonnes restantes : ['ID', 'Date', 'Block', 'Primary Type', 'Description', 'Location Description', 'Arrest', 'Domestic']\n",
      "\n",
      "2. Conversion des dates...\n",
      "   Type de la colonne Date : datetime64[ns]\n",
      "\n",
      "3. Définition de l'index temporel...\n",
      "   Index défini : <class 'pandas.core.indexes.datetimes.DatetimeIndex'>\n",
      "\n",
      "4. INFORMATIONS FINALES\n",
      "-------------------------\n",
      "   Dimensions : (100000, 8)\n",
      "   Période : 2001-01-01 00:00:00 à 2004-12-31 15:00:00\n",
      "   Colonnes : ['ID', 'Date', 'Block', 'Primary Type', 'Description', 'Location Description', 'Arrest', 'Domestic']\n",
      "\n",
      "Données prêtes pour l'analyse!\n"
     ]
    }
   ],
   "source": [
    "# PRÉPARATION DES DONNÉES\n",
    "print(\"PRÉPARATION DES DONNÉES\")\n",
    "print(\"=\" * 35)\n",
    "\n",
    "# 1. Suppression des colonnes inutiles pour l'analyse temporelle\n",
    "print(\"1. Suppression des colonnes inutiles...\")\n",
    "colonnes_a_supprimer = ['Unnamed: 0', 'Case Number', 'IUCR', 'X Coordinate', 'Y Coordinate', \n",
    "                        'Updated On', 'Year', 'FBI Code', 'Beat', 'Ward', 'Community Area', \n",
    "                        'Location', 'District', 'Latitude', 'Longitude']\n",
    "\n",
    "chicago_df = chicago_df.drop(colonnes_a_supprimer, axis=1)\n",
    "print(f\"   Colonnes restantes : {list(chicago_df.columns)}\")\n",
    "\n",
    "# 2. Conversion de la colonne Date au format datetime\n",
    "print(\"\\n2. Conversion des dates...\")\n",
    "chicago_df['Date'] = pd.to_datetime(chicago_df['Date'], format='%m/%d/%Y %I:%M:%S %p')\n",
    "print(f\"   Type de la colonne Date : {chicago_df['Date'].dtype}\")\n",
    "\n",
    "# 3. Définition de l'index temporel\n",
    "print(\"\\n3. Définition de l'index temporel...\")\n",
    "chicago_df.index = pd.DatetimeIndex(chicago_df['Date'])\n",
    "print(f\"   Index défini : {type(chicago_df.index)}\")\n",
    "\n",
    "# 4. Affichage des informations finales\n",
    "print(f\"\\n4. INFORMATIONS FINALES\")\n",
    "print(\"-\" * 25)\n",
    "print(f\"   Dimensions : {chicago_df.shape}\")\n",
    "print(f\"   Période : {chicago_df['Date'].min()} à {chicago_df['Date'].max()}\")\n",
    "print(f\"   Colonnes : {list(chicago_df.columns)}\")\n",
    "\n",
    "print(\"\\nDonnées prêtes pour l'analyse!\")\n"
   ]
  },
  {
   "cell_type": "markdown",
   "metadata": {},
   "source": [
    "## 7. Création de la Série Temporelle\n",
    "\n",
    "### Agrégation des Données\n",
    "\n",
    "Pour utiliser Prophet, nous devons créer une série temporelle avec :\n",
    "- **Colonne 'ds'** : Dates (format datetime)\n",
    "- **Colonne 'y'** : Valeurs à prédire (nombre de crimes par jour)\n"
   ]
  },
  {
   "cell_type": "code",
   "execution_count": 6,
   "metadata": {
    "execution": {
     "iopub.execute_input": "2025-09-19T22:25:25.526865Z",
     "iopub.status.busy": "2025-09-19T22:25:25.526646Z",
     "iopub.status.idle": "2025-09-19T22:25:25.608918Z",
     "shell.execute_reply": "2025-09-19T22:25:25.607958Z",
     "shell.execute_reply.started": "2025-09-19T22:25:25.526845Z"
    }
   },
   "outputs": [
    {
     "name": "stdout",
     "output_type": "stream",
     "text": [
      "CRÉATION DE LA SÉRIE TEMPORELLE\n",
      "========================================\n",
      "1. Agrégation des crimes par jour...\n",
      "   Nombre de jours avec des crimes : 1461\n",
      "   Période : 2001-01-01 00:00:00 à 2004-12-31 00:00:00\n",
      "\n",
      "2. Création du DataFrame pour Prophet...\n",
      "   Dimensions du DataFrame Prophet : (1461, 2)\n",
      "   Colonnes : ['ds', 'y']\n",
      "\n",
      "3. VÉRIFICATION DES DONNÉES\n",
      "-------------------------\n",
      "   Valeurs manquantes : 0\n",
      "   Crimes minimum par jour : 0\n",
      "   Crimes maximum par jour : 1435\n",
      "   Crimes moyen par jour : 68.45\n",
      "\n",
      "4. APERÇU DES DONNÉES\n",
      "--------------------\n",
      "          ds     y\n",
      "0 2001-01-01  1435\n",
      "1 2001-01-02  1093\n",
      "2 2001-01-03  1120\n",
      "3 2001-01-04  1133\n",
      "4 2001-01-05  1216\n",
      "5 2001-01-06  1268\n",
      "6 2001-01-07  1081\n",
      "7 2001-01-08  1136\n",
      "8 2001-01-09  1179\n",
      "9 2001-01-10  1195\n",
      "\n",
      "Série temporelle créée avec succès!\n"
     ]
    }
   ],
   "source": [
    "# CRÉATION DE LA SÉRIE TEMPORELLE\n",
    "print(\"CRÉATION DE LA SÉRIE TEMPORELLE\")\n",
    "print(\"=\" * 40)\n",
    "\n",
    "# 1. Agrégation des crimes par jour\n",
    "print(\"1. Agrégation des crimes par jour...\")\n",
    "crimes_par_jour = chicago_df.resample('D').size()\n",
    "print(f\"   Nombre de jours avec des crimes : {len(crimes_par_jour)}\")\n",
    "print(f\"   Période : {crimes_par_jour.index.min()} à {crimes_par_jour.index.max()}\")\n",
    "\n",
    "# 2. Création du DataFrame pour Prophet\n",
    "print(\"\\n2. Création du DataFrame pour Prophet...\")\n",
    "prophet_df = pd.DataFrame({\n",
    "    'ds': crimes_par_jour.index,\n",
    "    'y': crimes_par_jour.values\n",
    "})\n",
    "\n",
    "print(f\"   Dimensions du DataFrame Prophet : {prophet_df.shape}\")\n",
    "print(f\"   Colonnes : {list(prophet_df.columns)}\")\n",
    "\n",
    "# 3. Vérification des données\n",
    "print(f\"\\n3. VÉRIFICATION DES DONNÉES\")\n",
    "print(\"-\" * 25)\n",
    "print(f\"   Valeurs manquantes : {prophet_df.isnull().sum().sum()}\")\n",
    "print(f\"   Crimes minimum par jour : {prophet_df['y'].min()}\")\n",
    "print(f\"   Crimes maximum par jour : {prophet_df['y'].max()}\")\n",
    "print(f\"   Crimes moyen par jour : {prophet_df['y'].mean():.2f}\")\n",
    "\n",
    "# 4. Affichage des premières lignes\n",
    "print(f\"\\n4. APERÇU DES DONNÉES\")\n",
    "print(\"-\" * 20)\n",
    "print(prophet_df.head(10))\n",
    "\n",
    "print(\"\\nSérie temporelle créée avec succès!\")\n"
   ]
  },
  {
   "cell_type": "markdown",
   "metadata": {},
   "source": [
    "## 8. Entraînement du Modèle Prophet\n",
    "\n",
    "### Configuration du Modèle\n",
    "\n",
    "Le modèle Prophet sera configuré et entraîné sur les données de criminalité pour identifier les tendances et patterns saisonniers.\n"
   ]
  },
  {
   "cell_type": "code",
   "execution_count": null,
   "metadata": {},
   "outputs": [],
   "source": [
    "# ENTRAÎNEMENT DU MODÈLE PROPHET\n",
    "print(\"ENTRAÎNEMENT DU MODÈLE PROPHET\")\n",
    "print(\"=\" * 40)\n",
    "\n",
    "# 1. Création et configuration du modèle\n",
    "print(\"1. Création du modèle Prophet...\")\n",
    "model = Prophet()\n",
    "print(\"   Modèle créé avec succès!\")\n",
    "\n",
    "# 2. Entraînement du modèle\n",
    "print(\"\\n2. Entraînement du modèle...\")\n",
    "print(\"   Cela peut prendre quelques minutes...\")\n",
    "model.fit(prophet_df)\n",
    "print(\"   Entraînement terminé!\")\n",
    "\n",
    "# 3. Création des prédictions futures\n",
    "print(\"\\n3. Création des prédictions...\")\n",
    "# Prédiction pour les 365 prochains jours\n",
    "future = model.make_future_dataframe(periods=365)\n",
    "forecast = model.predict(future)\n",
    "\n",
    "print(f\"   Période de prédiction : {forecast['ds'].min()} à {forecast['ds'].max()}\")\n",
    "print(f\"   Nombre de jours prédits : {len(forecast)}\")\n",
    "\n",
    "# 4. Affichage des résultats\n",
    "print(f\"\\n4. RÉSULTATS DE L'ENTRAÎNEMENT\")\n",
    "print(\"-\" * 30)\n",
    "print(f\"   Données d'entraînement : {len(prophet_df)} jours\")\n",
    "print(f\"   Prédictions générées : {len(forecast)} jours\")\n",
    "print(f\"   Période de prédiction : 365 jours dans le futur\")\n",
    "\n",
    "print(\"\\nModèle entraîné avec succès!\")\n"
   ]
  },
  {
   "cell_type": "markdown",
   "metadata": {},
   "source": [
    "## 9. Visualisation des Résultats\n",
    "\n",
    "### Analyse des Prédictions\n",
    "\n",
    "Les graphiques suivants montrent :\n",
    "- **Tendances générales** de la criminalité\n",
    "- **Patterns saisonniers** (annuels, hebdomadaires)\n",
    "- **Prédictions futures** avec intervalles de confiance\n",
    "- **Composantes** du modèle (tendance, saisonnalité)\n"
   ]
  },
  {
   "cell_type": "code",
   "execution_count": null,
   "metadata": {},
   "outputs": [],
   "source": [
    "# VISUALISATION DES RÉSULTATS\n",
    "print(\"VISUALISATION DES RÉSULTATS\")\n",
    "print(\"=\" * 35)\n",
    "\n",
    "# 1. Graphique principal des prédictions\n",
    "print(\"1. Génération du graphique principal...\")\n",
    "fig1 = model.plot(forecast, figsize=(15, 8))\n",
    "plt.title('Prédiction du Taux de Criminalité à Chicago', fontsize=16, fontweight='bold')\n",
    "plt.xlabel('Date', fontsize=12)\n",
    "plt.ylabel('Nombre de Crimes par Jour', fontsize=12)\n",
    "plt.grid(True, alpha=0.3)\n",
    "plt.tight_layout()\n",
    "plt.show()\n",
    "\n",
    "# 2. Composantes du modèle\n",
    "print(\"\\n2. Génération des composantes du modèle...\")\n",
    "fig2 = model.plot_components(forecast, figsize=(15, 12))\n",
    "plt.suptitle('Composantes du Modèle Prophet', fontsize=16, fontweight='bold')\n",
    "plt.tight_layout()\n",
    "plt.show()\n",
    "\n",
    "# 3. Statistiques des prédictions\n",
    "print(f\"\\n3. STATISTIQUES DES PRÉDICTIONS\")\n",
    "print(\"-\" * 30)\n",
    "\n",
    "# Prédictions pour les 30 prochains jours\n",
    "future_30_days = forecast.tail(30)\n",
    "print(f\"Prédictions pour les 30 prochains jours :\")\n",
    "print(f\"   Crimes minimum prédit : {future_30_days['yhat'].min():.0f}\")\n",
    "print(f\"   Crimes maximum prédit : {future_30_days['yhat'].max():.0f}\")\n",
    "print(f\"   Crimes moyen prédit : {future_30_days['yhat'].mean():.0f}\")\n",
    "\n",
    "# Comparaison avec les données historiques\n",
    "print(f\"\\nComparaison avec les données historiques :\")\n",
    "print(f\"   Crimes moyen historique : {prophet_df['y'].mean():.0f}\")\n",
    "print(f\"   Crimes moyen prédit (30j) : {future_30_days['yhat'].mean():.0f}\")\n",
    "difference = future_30_days['yhat'].mean() - prophet_df['y'].mean()\n",
    "print(f\"   Différence : {difference:+.0f} crimes/jour\")\n",
    "\n",
    "print(\"\\nVisualisations générées avec succès!\")\n"
   ]
  },
  {
   "cell_type": "markdown",
   "metadata": {},
   "source": [
    "## 10. Conclusion et Insights\n",
    "\n",
    "### Résultats du Projet\n",
    "\n",
    "Ce projet a permis de développer un modèle prédictif pour analyser et prédire les tendances de criminalité à Chicago en utilisant Facebook Prophet.\n",
    "\n",
    "### Points Clés\n",
    "\n",
    "1. **Modèle Prophet Efficace** : L'algorithme a identifié les tendances et patterns saisonniers dans les données de criminalité.\n",
    "\n",
    "2. **Patterns Identifiés** :\n",
    "   - **Tendances long terme** : Évolution générale de la criminalité\n",
    "   - **Saisonalité annuelle** : Variations selon les saisons\n",
    "   - **Saisonalité hebdomadaire** : Patterns selon les jours de la semaine\n",
    "   - **Effets de vacances** : Impact des jours fériés\n",
    "\n",
    "3. **Applications Pratiques** :\n",
    "   - **Planification des ressources** policières\n",
    "   - **Stratégies de prévention** ciblées\n",
    "   - **Allocation budgétaire** optimisée\n",
    "   - **Alertes préventives** basées sur les prédictions\n",
    "\n",
    "### Insights Business\n",
    "\n",
    "- **Tendances identifiées** : Le modèle révèle des patterns récurrents dans la criminalité\n",
    "- **Prédictions fiables** : Les intervalles de confiance permettent d'estimer la fiabilité\n",
    "- **Actions préventives** : Les prédictions peuvent guider les stratégies de sécurité\n",
    "\n",
    "### Améliorations Possibles\n",
    "\n",
    "- **Données supplémentaires** : Intégrer des variables externes (météo, événements)\n",
    "- **Modèles plus complexes** : Combiner Prophet avec d'autres algorithmes\n",
    "- **Analyse géographique** : Prédictions par zone géographique\n",
    "- **Types de crimes** : Modèles spécifiques par catégorie de crime\n",
    "\n",
    "### Déploiement\n",
    "\n",
    "Le modèle est prêt pour être intégré dans des systèmes de sécurité publique pour améliorer la planification et la prévention de la criminalité à Chicago.\n"
   ]
  },
  {
   "cell_type": "code",
   "execution_count": null,
   "metadata": {},
   "outputs": [],
   "source": [
    "# dataframes creation for both training and testing datasets \n",
    "chicago_df_1 = pd.read_csv('Chicago_Crimes_2005_to_2007.csv', error_bad_lines=False)\n",
    "chicago_df_2 = pd.read_csv('Chicago_Crimes_2008_to_2011.csv', error_bad_lines=False)\n",
    "chicago_df_3 = pd.read_csv('Chicago_Crimes_2012_to_2017.csv', error_bad_lines=False)\n"
   ]
  },
  {
   "cell_type": "code",
   "execution_count": null,
   "metadata": {},
   "outputs": [],
   "source": [
    "\n",
    "chicago_df = pd.concat([chicago_df_1, chicago_df_2, chicago_df_3], ignore_index=False, axis=0)\n"
   ]
  },
  {
   "cell_type": "markdown",
   "metadata": {},
   "source": [
    "# STEP #2: EXPLORING THE DATASET  "
   ]
  },
  {
   "cell_type": "code",
   "execution_count": null,
   "metadata": {},
   "outputs": [],
   "source": [
    "# Let's view the head of the training dataset\n",
    "chicago_df.head()"
   ]
  },
  {
   "cell_type": "code",
   "execution_count": null,
   "metadata": {},
   "outputs": [],
   "source": [
    "# Let's view the last elements in the training dataset\n",
    "chicago_df.tail(20)"
   ]
  },
  {
   "cell_type": "code",
   "execution_count": null,
   "metadata": {},
   "outputs": [],
   "source": [
    "# Let's see how many null elements are contained in the data\n",
    "plt.figure(figsize=(10,10))\n",
    "sns.heatmap(chicago_df.isnull(), cbar = False, cmap = 'YlGnBu')"
   ]
  },
  {
   "cell_type": "code",
   "execution_count": null,
   "metadata": {},
   "outputs": [],
   "source": [
    "# ID Case Number Date Block IUCR Primary Type Description Location Description Arrest Domestic Beat District Ward Community Area FBI Code X Coordinate Y Coordinate Year Updated On Latitude Longitude Location\n",
    "chicago_df.drop(['Unnamed: 0', 'Case Number', 'Case Number', 'IUCR', 'X Coordinate', 'Y Coordinate','Updated On','Year', 'FBI Code', 'Beat','Ward','Community Area', 'Location', 'District', 'Latitude' , 'Longitude'], inplace=True, axis=1)"
   ]
  },
  {
   "cell_type": "code",
   "execution_count": null,
   "metadata": {},
   "outputs": [],
   "source": [
    "chicago_df"
   ]
  },
  {
   "cell_type": "code",
   "execution_count": null,
   "metadata": {},
   "outputs": [],
   "source": [
    "# Assembling a datetime by rearranging the dataframe column \"Date\". \n",
    "\n",
    "chicago_df.Date = pd.to_datetime(chicago_df.Date, format='%m/%d/%Y %I:%M:%S %p')\n"
   ]
  },
  {
   "cell_type": "code",
   "execution_count": null,
   "metadata": {},
   "outputs": [],
   "source": [
    "chicago_df"
   ]
  },
  {
   "cell_type": "code",
   "execution_count": null,
   "metadata": {},
   "outputs": [],
   "source": [
    "# setting the index to be the date \n",
    "chicago_df.index = pd.DatetimeIndex(chicago_df.Date)\n"
   ]
  },
  {
   "cell_type": "code",
   "execution_count": null,
   "metadata": {},
   "outputs": [],
   "source": [
    "chicago_df"
   ]
  },
  {
   "cell_type": "code",
   "execution_count": null,
   "metadata": {},
   "outputs": [],
   "source": [
    "chicago_df['Primary Type'].value_counts()"
   ]
  },
  {
   "cell_type": "code",
   "execution_count": null,
   "metadata": {},
   "outputs": [],
   "source": [
    "chicago_df['Primary Type'].value_counts().iloc[:15]"
   ]
  },
  {
   "cell_type": "code",
   "execution_count": null,
   "metadata": {},
   "outputs": [],
   "source": [
    "chicago_df['Primary Type'].value_counts().iloc[:15].index"
   ]
  },
  {
   "cell_type": "code",
   "execution_count": null,
   "metadata": {},
   "outputs": [],
   "source": [
    "plt.figure(figsize = (15, 10))\n",
    "sns.countplot(y= 'Primary Type', data = chicago_df, order = chicago_df['Primary Type'].value_counts().iloc[:15].index)"
   ]
  },
  {
   "cell_type": "code",
   "execution_count": null,
   "metadata": {},
   "outputs": [],
   "source": [
    "plt.figure(figsize = (15, 10))\n",
    "sns.countplot(y= 'Location Description', data = chicago_df, order = chicago_df['Location Description'].value_counts().iloc[:15].index)"
   ]
  },
  {
   "cell_type": "code",
   "execution_count": null,
   "metadata": {},
   "outputs": [],
   "source": [
    "chicago_df.resample('Y').size()"
   ]
  },
  {
   "cell_type": "code",
   "execution_count": null,
   "metadata": {},
   "outputs": [],
   "source": [
    "# Resample is a Convenience method for frequency conversion and resampling of time series.\n",
    "\n",
    "plt.plot(chicago_df.resample('Y').size())\n",
    "plt.title('Crimes Count Per Year')\n",
    "plt.xlabel('Years')\n",
    "plt.ylabel('Number of Crimes')"
   ]
  },
  {
   "cell_type": "code",
   "execution_count": null,
   "metadata": {},
   "outputs": [],
   "source": [
    "chicago_df.resample('M').size()"
   ]
  },
  {
   "cell_type": "code",
   "execution_count": null,
   "metadata": {},
   "outputs": [],
   "source": [
    "# Resample is a Convenience method for frequency conversion and resampling of time series.\n",
    "\n",
    "plt.plot(chicago_df.resample('M').size())\n",
    "plt.title('Crimes Count Per Month')\n",
    "plt.xlabel('Months')\n",
    "plt.ylabel('Number of Crimes')"
   ]
  },
  {
   "cell_type": "code",
   "execution_count": null,
   "metadata": {},
   "outputs": [],
   "source": [
    "chicago_df.resample('Q').size()"
   ]
  },
  {
   "cell_type": "code",
   "execution_count": null,
   "metadata": {},
   "outputs": [],
   "source": [
    "# Resample is a Convenience method for frequency conversion and resampling of time series.\n",
    "\n",
    "plt.plot(chicago_df.resample('Q').size())\n",
    "plt.title('Crimes Count Per Quarter')\n",
    "plt.xlabel('Quarters')\n",
    "plt.ylabel('Number of Crimes')"
   ]
  },
  {
   "cell_type": "markdown",
   "metadata": {},
   "source": [
    "# STEP #3: PREPARING THE DATA"
   ]
  },
  {
   "cell_type": "code",
   "execution_count": null,
   "metadata": {},
   "outputs": [],
   "source": [
    "chicago_prophet = chicago_df.resample('M').size().reset_index()"
   ]
  },
  {
   "cell_type": "code",
   "execution_count": null,
   "metadata": {},
   "outputs": [],
   "source": [
    "chicago_prophet"
   ]
  },
  {
   "cell_type": "code",
   "execution_count": null,
   "metadata": {},
   "outputs": [],
   "source": [
    "chicago_prophet.columns = ['Date', 'Crime Count']"
   ]
  },
  {
   "cell_type": "code",
   "execution_count": null,
   "metadata": {},
   "outputs": [],
   "source": [
    "chicago_prophet"
   ]
  },
  {
   "cell_type": "code",
   "execution_count": null,
   "metadata": {},
   "outputs": [],
   "source": [
    "chicago_prophet_df = pd.DataFrame(chicago_prophet)"
   ]
  },
  {
   "cell_type": "code",
   "execution_count": null,
   "metadata": {},
   "outputs": [],
   "source": [
    "chicago_prophet_df"
   ]
  },
  {
   "cell_type": "markdown",
   "metadata": {},
   "source": [
    "# STEP #4: MAKE PREDICTIONS"
   ]
  },
  {
   "cell_type": "code",
   "execution_count": null,
   "metadata": {},
   "outputs": [],
   "source": [
    "chicago_prophet_df.columns"
   ]
  },
  {
   "cell_type": "code",
   "execution_count": null,
   "metadata": {},
   "outputs": [],
   "source": [
    "chicago_prophet_df_final = chicago_prophet_df.rename(columns={'Date':'ds', 'Crime Count':'y'})\n"
   ]
  },
  {
   "cell_type": "code",
   "execution_count": null,
   "metadata": {},
   "outputs": [],
   "source": [
    "chicago_prophet_df_final"
   ]
  },
  {
   "cell_type": "code",
   "execution_count": null,
   "metadata": {},
   "outputs": [],
   "source": [
    "m = Prophet()\n",
    "m.fit(chicago_prophet_df_final)\n"
   ]
  },
  {
   "cell_type": "code",
   "execution_count": null,
   "metadata": {},
   "outputs": [],
   "source": [
    "# Forcasting into the future\n",
    "future = m.make_future_dataframe(periods=365)\n",
    "forecast = m.predict(future)"
   ]
  },
  {
   "cell_type": "code",
   "execution_count": null,
   "metadata": {},
   "outputs": [],
   "source": [
    "forecast"
   ]
  },
  {
   "cell_type": "code",
   "execution_count": null,
   "metadata": {},
   "outputs": [],
   "source": [
    "figure = m.plot(forecast, xlabel='Date', ylabel='Crime Rate')"
   ]
  },
  {
   "cell_type": "code",
   "execution_count": null,
   "metadata": {},
   "outputs": [],
   "source": [
    "figure3 = m.plot_components(forecast)"
   ]
  },
  {
   "cell_type": "markdown",
   "metadata": {},
   "source": [
    "# GREAT JOB, KEEP UP THE GREAT WORK!"
   ]
  }
 ],
 "metadata": {
  "kernelspec": {
   "display_name": "Python 3 (ipykernel)",
   "language": "python",
   "name": "python3"
  },
  "language_info": {
   "codemirror_mode": {
    "name": "ipython",
    "version": 3
   },
   "file_extension": ".py",
   "mimetype": "text/x-python",
   "name": "python",
   "nbconvert_exporter": "python",
   "pygments_lexer": "ipython3",
   "version": "3.11.11"
  },
  "varInspector": {
   "cols": {
    "lenName": 16,
    "lenType": 16,
    "lenVar": 40
   },
   "kernels_config": {
    "python": {
     "delete_cmd_postfix": "",
     "delete_cmd_prefix": "del ",
     "library": "var_list.py",
     "varRefreshCmd": "print(var_dic_list())"
    },
    "r": {
     "delete_cmd_postfix": ") ",
     "delete_cmd_prefix": "rm(",
     "library": "var_list.r",
     "varRefreshCmd": "cat(var_dic_list()) "
    }
   },
   "types_to_exclude": [
    "module",
    "function",
    "builtin_function_or_method",
    "instance",
    "_Feature"
   ],
   "window_display": false
  },
  "widgets": {
   "application/vnd.jupyter.widget-state+json": {
    "state": {},
    "version_major": 2,
    "version_minor": 0
   }
  }
 },
 "nbformat": 4,
 "nbformat_minor": 4
}
